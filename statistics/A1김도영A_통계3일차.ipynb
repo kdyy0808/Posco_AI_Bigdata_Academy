{
 "cells": [
  {
   "cell_type": "markdown",
   "id": "fa8375c4",
   "metadata": {},
   "source": [
    "# 통계 Day 3 과제"
   ]
  },
  {
   "cell_type": "markdown",
   "id": "4129df04",
   "metadata": {},
   "source": [
    "## 필수 라이브러리 추가 및 폰트 설정\n"
   ]
  },
  {
   "cell_type": "code",
   "execution_count": 1,
   "id": "d72d54a1",
   "metadata": {},
   "outputs": [],
   "source": [
    "import pandas as pd\n",
    "import numpy as np\n",
    "import matplotlib.pyplot as plt\n",
    "import seaborn as sns\n",
    "\n",
    "from scipy import stats\n",
    "from statsmodels.stats.proportion import proportions_ztest\n",
    "from statsmodels.stats.anova import anova_lm\n",
    "from statsmodels.formula.api import ols\n",
    "from statsmodels.api import qqplot, add_constant\n",
    "import statsmodels.formula.api as smf\n",
    "%matplotlib inline"
   ]
  },
  {
   "cell_type": "markdown",
   "id": "74248548",
   "metadata": {},
   "source": [
    "## 실습 1 p148"
   ]
  },
  {
   "cell_type": "markdown",
   "id": "8f8f6e20",
   "metadata": {},
   "source": [
    "### 동전이 정상적인가를 검정하기 위해 100번을 던져본 결과, 앞면이 40번 나왔으며 뒷면이 60번 나왔다.\n",
    " - 이 동전은 정상인가를 유의수준 $ \\alpha = 0.05 $ 로써 검정하라. \n",
    " - 정상적인 동전을 던질 때, 앞면이 나올 확률은 50%이다."
   ]
  },
  {
   "cell_type": "code",
   "execution_count": 2,
   "id": "c945f65e",
   "metadata": {},
   "outputs": [
    {
     "name": "stdout",
     "output_type": "stream",
     "text": [
      "1 Proportion test\n",
      "z: -2.041\n",
      "p: 0.041\n",
      "P value가 유의수준 alpha = 0.05보다 작으므로 귀무가설을 기각한다.\n"
     ]
    }
   ],
   "source": [
    "H_count =40 #앞면이 나온 수\n",
    "n_obs = 100 #관측하는 횟수 \n",
    "value = 0.5 #일반적으로 앞면이 나올 확률\n",
    "significance_level = 0.05 #유의수준\n",
    "#귀무가설 : 이 동전은 정상이다.\n",
    "\n",
    "#Proportion test 실행\n",
    "stat, pval = proportions_ztest(H_count,n_obs,value)\n",
    "\n",
    "print(\"1 Proportion test\")\n",
    "print(\"z: {:.3f}\".format(stat))\n",
    "print(\"p: {:.3f}\".format(pval))\n",
    "\n",
    "if pval > significance_level:\n",
    "    print(\"P value가 유의수준 alpha = {}보다 크므로 귀무가설을 채택한다.\".format(significance_level))\n",
    "elif pval < significance_level:\n",
    "    print(\"P value가 유의수준 alpha = {}보다 작으므로 귀무가설을 기각한다.\".format(significance_level))"
   ]
  },
  {
   "cell_type": "markdown",
   "id": "8d0548c4",
   "metadata": {},
   "source": [
    "귀무가설(H<sub>0</sub>) : 이 동전을 던졌을 때 앞면의 나올 확률이 정상적인 동전을 던졌을 때 앞면이 나올 확률과 같다.\n",
    "- 즉 이 동전이 정상이다.  \n",
    "\n",
    "\n",
    "대립가설(H<sub>1</sub>) : 이 동전을 던졌을 때 앞면이 나올 확률이 정상적인 동전을 던졌을 때 앞면이 나올 확률가 다르다.\n",
    "- 즉 이 동전이 정상이 아니다.\n",
    "\n",
    "이 문제에서 한 집단의 비율이 특정 비율과 같은지를 검정할 때 사용하는 1 proportion test를 사용했다. 동전의 앞면이 나온 횟수와 동전을 던진 횟수, 그리고 동전이 정살일 때 앞면이 나올 확률을 입력하여 Z값과 p-value를 추출하였다. 나온 Z 값이 -2.041 이므로 이 동전의 경우 모평균에서 표준편차의 약 2배만큼 앞면이 나올 확률이 낮았다는것을 알 수 있다. 그리고 p-value가 0.041이 나왔고 이 값이 유의수준 $ \\alpha = 0.05 $보다 작으므로 귀무가설을 기각한다. 따라서 이 동전은 정상이 아니라고 판단 할 수 있다.\n"
   ]
  },
  {
   "cell_type": "markdown",
   "id": "fe80498e",
   "metadata": {},
   "source": [
    "## 실습 2 p151"
   ]
  },
  {
   "cell_type": "markdown",
   "id": "5c2e027e",
   "metadata": {},
   "source": [
    "### 동일한 제품을 생산하는 두 공장에서 불량률을 측정한 결과 아래와 같다.\n",
    " - 두 공정의 불량률이 같다고 할 수 있는가? $ \\alpha = 0.05 $ \n",
    " - 공장 A: N<sub>1</sub> = 1200, X<sub>1</sub> = 14\n",
    " - 공장 B: N<sub>2</sub> = 1200, X<sub>2</sub> = 5"
   ]
  },
  {
   "cell_type": "code",
   "execution_count": 3,
   "id": "fea4f2ba",
   "metadata": {},
   "outputs": [
    {
     "name": "stdout",
     "output_type": "stream",
     "text": [
      "2 Proportion test\n",
      "z:2.073\n",
      "p:0.038\n",
      "P value가 유의수준 alpha = 0.05보다 작으므로 귀무가설을 기각한다.\n"
     ]
    }
   ],
   "source": [
    "count = np.array([14,5]) #공장 A,B에서 나온 불량품의 수 \n",
    "n_obs = np.array([1200,1200]) #공장 A,B 의 생산량\n",
    "significance_level =0.05\n",
    "\n",
    "stat, pval = proportions_ztest(count, n_obs) #2proportion test\n",
    "\n",
    "print(\"2 Proportion test\")\n",
    "print(\"z:{:.3f}\".format(stat))\n",
    "print(\"p:{:.3f}\".format(pval))\n",
    "\n",
    "if pval > significance_level:\n",
    "    print(\"P value가 유의수준 alpha = {}보다 크므로 귀무가설을 채택한다.\".format(significance_level))\n",
    "elif pval < significance_level:\n",
    "    print(\"P value가 유의수준 alpha = {}보다 작으므로 귀무가설을 기각한다.\".format(significance_level))"
   ]
  },
  {
   "cell_type": "markdown",
   "id": "ea04e2f1",
   "metadata": {},
   "source": [
    "귀무가설(H<sub>0</sub>) : A, B공정의 불량률이 같다.\n",
    "\n",
    "\n",
    "대립가설(H<sub>1</sub>) : A, B공정의 불량률이 다르다.\n",
    "\n",
    "이 문제에서 두 집단의 비율이 같은 지를 검정할 때 사용하는 2 proportion test를 사용했다. 각 공정에서 불량품이 나온 횟수와 각 공정의 생산량을 입력하여 Z값과 p-value를 추출하였다. 나온 Z 값이 2.073 이므로  두 비율의 차이가 표준편차의 2배정도 난다는 것을 알 수 있다. 그리고 p-value가 0.038이 나왔고 이 값이 유의수준 $ \\alpha = 0.05 $보다 작으므로 귀무가설을 기각한다. 따라서 A, B 공정의 불량률은 다르다고 할 수 있다.\n"
   ]
  },
  {
   "cell_type": "markdown",
   "id": "036f1363",
   "metadata": {},
   "source": [
    "## 실습 3 p159"
   ]
  },
  {
   "cell_type": "markdown",
   "id": "0c841fe6",
   "metadata": {},
   "source": [
    "### 노트북 컴퓨터의 6가지 제품에 대하여 7가지 제품의 이미지를 중복 선택 할 수 있도록 32명의 소비자를 대상으로 설문 조사한 Table이다. 각 제품에 대해 이미지에 대해 차이가 있겠는가?\n",
    " -  $ \\alpha = 0.05 $"
   ]
  },
  {
   "cell_type": "code",
   "execution_count": 4,
   "id": "52249191",
   "metadata": {},
   "outputs": [
    {
     "name": "stdout",
     "output_type": "stream",
     "text": [
      "chi-square test\n",
      "chisq: 95.759\n",
      "p: 0.000\n",
      "degree of freedom :30\n",
      "expected value: \n",
      "[[10.224  8.179 11.247  7.157  6.135  8.179  5.879]\n",
      " [ 8.43   6.744  9.274  5.901  5.058  6.744  4.848]\n",
      " [ 5.381  4.305  5.919  3.767  3.229  4.305  3.094]\n",
      " [ 3.946  3.157  4.341  2.762  2.368  3.157  2.269]\n",
      " [ 1.973  1.578  2.17   1.381  1.184  1.578  1.135]\n",
      " [10.045  8.036 11.049  7.031  6.027  8.036  5.776]]\n",
      "P value가 유의수준 alpha = 0.05보다 작으므로 귀무가설을 기각한다.\n"
     ]
    }
   ],
   "source": [
    "df = pd.read_csv(\"카이제곱_노트북.csv\", engine = \"python\")\n",
    "\n",
    "#chi-square test 실행\n",
    "chi, pval, dof, expected = stats.chi2_contingency(df.T)\n",
    "\n",
    "print(\"chi-square test\")\n",
    "print(\"chisq: {:.3f}\".format(chi))\n",
    "print(\"p: {:.3f}\".format(pval))\n",
    "print(\"degree of freedom :{}\".format(dof))\n",
    "print(\"expected value: \\n{}\".format(expected.round(3)))\n",
    "\n",
    "if pval > significance_level:\n",
    "    print(\"P value가 유의수준 alpha = {}보다 크므로 귀무가설을 채택한다.\".format(significance_level))\n",
    "elif pval < significance_level:\n",
    "    print(\"P value가 유의수준 alpha = {}보다 작으므로 귀무가설을 기각한다.\".format(significance_level))"
   ]
  },
  {
   "cell_type": "markdown",
   "id": "60174083",
   "metadata": {},
   "source": [
    "귀무가설 : 각 제품의 이미지에 대해 차이가 없다.(다 같은 이미지이다.)  \n",
    "대립가설 : 각 제품의 이미지에 대해 차이가 있다.(이미지가 다르다.)  \n",
    "\n",
    "이 문제에서는 관찰된 빈도가 기대되는 빈도와 의미있게 다른지 여부를 검증하는 방법인 카이제곱 검정을 사용하였다. p-value 가 0이므로 유의수준 0.05보다 작아 귀무가설을 기각한다. 따라서 각 제품의 이미지에 대해 차이가 있다고 할 수 있다. 자유도는 이미지에 대한 분류가 7개, 제품명이 총 6개 이므로 카이제곱은 범주의 수에서 1을 뺀 값을 이용하기에 (7-1)*(6-1)=30 을 사용한다. \n",
    "또한 카이제곱 검정은 귀무가설 기각여부를 임계값($\\chi^2_{(\\alpha,df)})$과 검정통계량($\\chi^2$)의 비교를 통해서도 할 수 있다.\n",
    "- 임계값($\\chi^2_{(\\alpha,df)})$ : 여기서 $\\alpha =0.05$, 자유도df =30이므로 임계값은 $\\chi^2$분포표에서 43.77임을 알 수 있다.\n",
    "- 검정통계량은 위의 코드 출력 부분에서 chisq :95.759임을 알 수 있다.\n",
    "\n",
    "따라서 검정 통계량이 임계값보다 크므로 귀무가설을 기각한다. 앞에서 p-value를 사용한 결과와 같은 것을 알 수 있다.\n"
   ]
  },
  {
   "cell_type": "markdown",
   "id": "5c3f0f50",
   "metadata": {},
   "source": [
    "## 실습 4 p167"
   ]
  },
  {
   "cell_type": "markdown",
   "id": "0609ea24",
   "metadata": {},
   "source": [
    "### 철강의 청정도를 높이기 위해 제강 공정에서 2차 정련을 실시하는데, 강종별과 type에 따라 2차 정련 시간에 차이가 있는지 검정하라\n",
    "- 유의수준 $ \\alpha = 0.05$\n",
    "- data set : ANOVA.csv"
   ]
  },
  {
   "cell_type": "code",
   "execution_count": 5,
   "id": "9dceccd9",
   "metadata": {},
   "outputs": [
    {
     "name": "stdout",
     "output_type": "stream",
     "text": [
      "<class 'pandas.core.frame.DataFrame'>\n",
      "RangeIndex: 24 entries, 0 to 23\n",
      "Data columns (total 4 columns):\n",
      " #   Column    Non-Null Count  Dtype  \n",
      "---  ------    --------------  -----  \n",
      " 0   time      24 non-null     float64\n",
      " 1   charge    24 non-null     object \n",
      " 2   gangjong  24 non-null     object \n",
      " 3   type      24 non-null     object \n",
      "dtypes: float64(1), object(3)\n",
      "memory usage: 896.0+ bytes\n"
     ]
    }
   ],
   "source": [
    "df = pd.read_csv(\"ANOVA.csv\",engine = \"python\")\n",
    "df.info()"
   ]
  },
  {
   "cell_type": "markdown",
   "id": "9eeeb685",
   "metadata": {},
   "source": [
    "charge,gangjong,type 이 카테고리 데이터 임을 알 수 있다."
   ]
  },
  {
   "cell_type": "code",
   "execution_count": 6,
   "id": "4c834898",
   "metadata": {},
   "outputs": [
    {
     "data": {
      "text/plain": [
       "<AxesSubplot:title={'center':'time'}, xlabel='type'>"
      ]
     },
     "execution_count": 6,
     "metadata": {},
     "output_type": "execute_result"
    },
    {
     "data": {
      "image/png": "[encoded data removed]",
      "text/plain": [
       "<Figure size 432x288 with 1 Axes>"
      ]
     },
     "metadata": {
      "needs_background": "light"
     },
     "output_type": "display_data"
    },
    {
     "data": {
      "image/png": "[encoded data removed]",
      "text/plain": [
       "<Figure size 432x288 with 1 Axes>"
      ]
     },
     "metadata": {
      "needs_background": "light"
     },
     "output_type": "display_data"
    }
   ],
   "source": [
    "df.boxplot(column = \"time\", by = \"gangjong\")\n",
    "df.boxplot(column = \"time\", by = \"type\")"
   ]
  },
  {
   "cell_type": "markdown",
   "id": "8311179f",
   "metadata": {},
   "source": [
    "강종 별로 2차정련시간 분포와 type별로 2차 정련시간 분포를 확인하였다. a강종에서 정련시간이 대체적으로 오래걸리고 d강종에서 대체적으로 시간이 적게 걸린다는 것을 알 수 있다. type별로 확인할 때는 a type일 때가 b type보다 상대적으로 2차 정련시간이 오래걸리는 경향이 있다는 것을 알 수 있다."
   ]
  },
  {
   "cell_type": "code",
   "execution_count": 7,
   "id": "bcc3fc54",
   "metadata": {},
   "outputs": [],
   "source": [
    "# lm = smf.ols('time ~C(gangjong)', data = df).fit()\n",
    "# print(anova_lm(lm))# 카테고리 데이터는 C넣어줘야함 p벨류가 0.05보다 작으므로 영향을 줌\n",
    "# lm.summary()"
   ]
  },
  {
   "cell_type": "code",
   "execution_count": 8,
   "id": "694e927e",
   "metadata": {},
   "outputs": [
    {
     "name": "stdout",
     "output_type": "stream",
     "text": [
      "                       df      sum_sq    mean_sq         F    PR(>F)\n",
      "C(gangjong)           3.0  104.603333  34.867778  4.171868  0.019013\n",
      "C(type)               1.0    4.098794   4.098794  0.490413  0.491810\n",
      "C(gangjong):C(type)   3.0   17.262445   5.754148  0.688474  0.569645\n",
      "Residual             20.0  167.156667   8.357833       NaN       NaN\n"
     ]
    },
    {
     "data": {
      "text/html": [
       "<table class=\"simpletable\">\n",
       "<caption>OLS Regression Results</caption>\n",
       "<tr>\n",
       "  <th>Dep. Variable:</th>          <td>time</td>       <th>  R-squared:         </th> <td>   0.385</td>\n",
       "</tr>\n",
       "<tr>\n",
       "  <th>Model:</th>                   <td>OLS</td>       <th>  Adj. R-squared:    </th> <td>   0.293</td>\n",
       "</tr>\n",
       "<tr>\n",
       "  <th>Method:</th>             <td>Least Squares</td>  <th>  F-statistic:       </th> <td>   4.172</td>\n",
       "</tr>\n",
       "<tr>\n",
       "  <th>Date:</th>             <td>Thu, 28 Oct 2021</td> <th>  Prob (F-statistic):</th>  <td>0.0190</td> \n",
       "</tr>\n",
       "<tr>\n",
       "  <th>Time:</th>                 <td>01:30:56</td>     <th>  Log-Likelihood:    </th> <td> -57.345</td>\n",
       "</tr>\n",
       "<tr>\n",
       "  <th>No. Observations:</th>      <td>    24</td>      <th>  AIC:               </th> <td>   122.7</td>\n",
       "</tr>\n",
       "<tr>\n",
       "  <th>Df Residuals:</th>          <td>    20</td>      <th>  BIC:               </th> <td>   127.4</td>\n",
       "</tr>\n",
       "<tr>\n",
       "  <th>Df Model:</th>              <td>     3</td>      <th>                     </th>     <td> </td>   \n",
       "</tr>\n",
       "<tr>\n",
       "  <th>Covariance Type:</th>      <td>nonrobust</td>    <th>                     </th>     <td> </td>   \n",
       "</tr>\n",
       "</table>\n",
       "<table class=\"simpletable\">\n",
       "<tr>\n",
       "                <td></td>                   <th>coef</th>     <th>std err</th>      <th>t</th>      <th>P>|t|</th>  <th>[0.025</th>    <th>0.975]</th>  \n",
       "</tr>\n",
       "<tr>\n",
       "  <th>Intercept</th>                     <td>   33.5667</td> <td>    1.180</td> <td>   28.440</td> <td> 0.000</td> <td>   31.105</td> <td>   36.029</td>\n",
       "</tr>\n",
       "<tr>\n",
       "  <th>C(gangjong)[T.b]</th>              <td>   -2.4167</td> <td>    1.669</td> <td>   -1.448</td> <td> 0.163</td> <td>   -5.898</td> <td>    1.065</td>\n",
       "</tr>\n",
       "<tr>\n",
       "  <th>C(gangjong)[T.c]</th>              <td>   -0.9354</td> <td>    0.552</td> <td>   -1.695</td> <td> 0.106</td> <td>   -2.087</td> <td>    0.216</td>\n",
       "</tr>\n",
       "<tr>\n",
       "  <th>C(gangjong)[T.d]</th>              <td>   -1.5271</td> <td>    0.552</td> <td>   -2.766</td> <td> 0.012</td> <td>   -2.679</td> <td>   -0.376</td>\n",
       "</tr>\n",
       "<tr>\n",
       "  <th>C(type)[T.b]</th>                  <td>   -2.4625</td> <td>    0.723</td> <td>   -3.407</td> <td> 0.003</td> <td>   -3.970</td> <td>   -0.955</td>\n",
       "</tr>\n",
       "<tr>\n",
       "  <th>C(gangjong)[T.b]:C(type)[T.b]</th> <td>         0</td> <td>        0</td> <td>      nan</td> <td>   nan</td> <td>        0</td> <td>        0</td>\n",
       "</tr>\n",
       "<tr>\n",
       "  <th>C(gangjong)[T.c]:C(type)[T.b]</th> <td>   -0.9354</td> <td>    0.552</td> <td>   -1.695</td> <td> 0.106</td> <td>   -2.087</td> <td>    0.216</td>\n",
       "</tr>\n",
       "<tr>\n",
       "  <th>C(gangjong)[T.d]:C(type)[T.b]</th> <td>   -1.5271</td> <td>    0.552</td> <td>   -2.766</td> <td> 0.012</td> <td>   -2.679</td> <td>   -0.376</td>\n",
       "</tr>\n",
       "</table>\n",
       "<table class=\"simpletable\">\n",
       "<tr>\n",
       "  <th>Omnibus:</th>       <td> 1.440</td> <th>  Durbin-Watson:     </th> <td>   2.334</td>\n",
       "</tr>\n",
       "<tr>\n",
       "  <th>Prob(Omnibus):</th> <td> 0.487</td> <th>  Jarque-Bera (JB):  </th> <td>   1.115</td>\n",
       "</tr>\n",
       "<tr>\n",
       "  <th>Skew:</th>          <td>-0.298</td> <th>  Prob(JB):          </th> <td>   0.573</td>\n",
       "</tr>\n",
       "<tr>\n",
       "  <th>Kurtosis:</th>      <td> 2.128</td> <th>  Cond. No.          </th> <td>2.36e+33</td>\n",
       "</tr>\n",
       "</table><br/><br/>Notes:<br/>[1] Standard Errors assume that the covariance matrix of the errors is correctly specified.<br/>[2] The smallest eigenvalue is 7.44e-66. This might indicate that there are<br/>strong multicollinearity problems or that the design matrix is singular."
      ],
      "text/plain": [
       "<class 'statsmodels.iolib.summary.Summary'>\n",
       "\"\"\"\n",
       "                            OLS Regression Results                            \n",
       "==============================================================================\n",
       "Dep. Variable:                   time   R-squared:                       0.385\n",
       "Model:                            OLS   Adj. R-squared:                  0.293\n",
       "Method:                 Least Squares   F-statistic:                     4.172\n",
       "Date:                Thu, 28 Oct 2021   Prob (F-statistic):             0.0190\n",
       "Time:                        01:30:56   Log-Likelihood:                -57.345\n",
       "No. Observations:                  24   AIC:                             122.7\n",
       "Df Residuals:                      20   BIC:                             127.4\n",
       "Df Model:                           3                                         \n",
       "Covariance Type:            nonrobust                                         \n",
       "=================================================================================================\n",
       "                                    coef    std err          t      P>|t|      [0.025      0.975]\n",
       "-------------------------------------------------------------------------------------------------\n",
       "Intercept                        33.5667      1.180     28.440      0.000      31.105      36.029\n",
       "C(gangjong)[T.b]                 -2.4167      1.669     -1.448      0.163      -5.898       1.065\n",
       "C(gangjong)[T.c]                 -0.9354      0.552     -1.695      0.106      -2.087       0.216\n",
       "C(gangjong)[T.d]                 -1.5271      0.552     -2.766      0.012      -2.679      -0.376\n",
       "C(type)[T.b]                     -2.4625      0.723     -3.407      0.003      -3.970      -0.955\n",
       "C(gangjong)[T.b]:C(type)[T.b]          0          0        nan        nan           0           0\n",
       "C(gangjong)[T.c]:C(type)[T.b]    -0.9354      0.552     -1.695      0.106      -2.087       0.216\n",
       "C(gangjong)[T.d]:C(type)[T.b]    -1.5271      0.552     -2.766      0.012      -2.679      -0.376\n",
       "==============================================================================\n",
       "Omnibus:                        1.440   Durbin-Watson:                   2.334\n",
       "Prob(Omnibus):                  0.487   Jarque-Bera (JB):                1.115\n",
       "Skew:                          -0.298   Prob(JB):                        0.573\n",
       "Kurtosis:                       2.128   Cond. No.                     2.36e+33\n",
       "==============================================================================\n",
       "\n",
       "Notes:\n",
       "[1] Standard Errors assume that the covariance matrix of the errors is correctly specified.\n",
       "[2] The smallest eigenvalue is 7.44e-66. This might indicate that there are\n",
       "strong multicollinearity problems or that the design matrix is singular.\n",
       "\"\"\""
      ]
     },
     "execution_count": 8,
     "metadata": {},
     "output_type": "execute_result"
    }
   ],
   "source": [
    "# 2way 일때\n",
    "formula = 'time ~ C(gangjong) + C(type) + C(gangjong):C(type)'\n",
    "lm = smf.ols(formula, df).fit()\n",
    "\n",
    "print(anova_lm(lm)) #강종만 영향이 있다고 볼수있음\n",
    "lm.summary()"
   ]
  },
  {
   "cell_type": "markdown",
   "id": "93b4eb34",
   "metadata": {},
   "source": [
    "카테고리 중 강종 카테고리만이 p-value 가 충분히(유의수준 0.05)낮은 것을 확인 할 수 있다. 따라서 강종 카테고리는 2차 정련 시간에 강한 연관성을 가지고 있다는 것을 알 수 있다. type 카테고리는 p-value가 높아 2차 정련 시간에 연관성을 가지고 있다고 볼 수 없다. 그리고 강종 카테고리와 type 카테고리간에도 p-value가 높아 연관성이 없다고 할 수 있다. "
   ]
  },
  {
   "cell_type": "markdown",
   "id": "6f74bf36",
   "metadata": {},
   "source": [
    "## 실습 5 p174"
   ]
  },
  {
   "cell_type": "markdown",
   "id": "5e5e0aef",
   "metadata": {},
   "source": [
    "### 초코칩의 강도와 재료 반죽온도간에 관계를 분석하기 위한 상관분석을 하시오"
   ]
  },
  {
   "cell_type": "code",
   "execution_count": 9,
   "id": "16b9252e",
   "metadata": {},
   "outputs": [
    {
     "name": "stdout",
     "output_type": "stream",
     "text": [
      "Correlation Analysis\n",
      "corr: -0.723\n",
      "p-value : 0.000\n"
     ]
    },
    {
     "data": {
      "image/png": "[encoded data removed]",
      "text/plain": [
       "<Figure size 432x288 with 1 Axes>"
      ]
     },
     "metadata": {
      "needs_background": "light"
     },
     "output_type": "display_data"
    }
   ],
   "source": [
    "df = pd.read_csv(\"correlation.csv\",engine=\"python\")\n",
    "df.head()\n",
    "\n",
    "df1 = df['strength'][0:20]\n",
    "df2 = df['temp'][0:20]\n",
    " \n",
    "df.plot.scatter(x='temp',y='strength')\n",
    "corr, pval = stats.pearsonr(df1,df2)\n",
    "\n",
    "print(\"Correlation Analysis\")\n",
    "print(\"corr: {:.3f}\".format(corr))\n",
    "print(\"p-value : {:.3f}\".format(pval))\n"
   ]
  },
  {
   "cell_type": "markdown",
   "id": "9e0eec99",
   "metadata": {},
   "source": [
    "산점도를 출력하였을 때 온도와 초코칩의 강도는 음의 상관관계를 가지는 것으로 보인다. 그 후 상관분석을 하였을 때 상관계수가 -0.723 이므로 초코칩의 강도와 재료 반죽 온도간에 음의 방향으로 상관성이 있다고 할 수 있다. 즉, 재료 반죽 온도가 높을 수 록 초코칩의 강도가 낮아진다고 할 수 있다."
   ]
  },
  {
   "cell_type": "markdown",
   "id": "78898730",
   "metadata": {},
   "source": [
    "## 실습 6 p204"
   ]
  },
  {
   "cell_type": "markdown",
   "id": "6d9739d9",
   "metadata": {},
   "source": [
    "### 초코칩의 강도와 굽는 시간과의 인과관계를 분석하기 위한 회귀분석 실시와 회귀식 도출"
   ]
  },
  {
   "cell_type": "code",
   "execution_count": 10,
   "id": "b2770c39",
   "metadata": {},
   "outputs": [
    {
     "data": {
      "text/html": [
       "<div>\n",
       "<style scoped>\n",
       "    .dataframe tbody tr th:only-of-type {\n",
       "        vertical-align: middle;\n",
       "    }\n",
       "\n",
       "    .dataframe tbody tr th {\n",
       "        vertical-align: top;\n",
       "    }\n",
       "\n",
       "    .dataframe thead th {\n",
       "        text-align: right;\n",
       "    }\n",
       "</style>\n",
       "<table border=\"1\" class=\"dataframe\">\n",
       "  <thead>\n",
       "    <tr style=\"text-align: right;\">\n",
       "      <th></th>\n",
       "      <th>strength</th>\n",
       "      <th>b_time</th>\n",
       "    </tr>\n",
       "  </thead>\n",
       "  <tbody>\n",
       "    <tr>\n",
       "      <th>count</th>\n",
       "      <td>20.000000</td>\n",
       "      <td>20.000000</td>\n",
       "    </tr>\n",
       "    <tr>\n",
       "      <th>mean</th>\n",
       "      <td>36.965000</td>\n",
       "      <td>0.776221</td>\n",
       "    </tr>\n",
       "    <tr>\n",
       "      <th>std</th>\n",
       "      <td>1.565172</td>\n",
       "      <td>0.040759</td>\n",
       "    </tr>\n",
       "    <tr>\n",
       "      <th>min</th>\n",
       "      <td>33.000000</td>\n",
       "      <td>0.695121</td>\n",
       "    </tr>\n",
       "    <tr>\n",
       "      <th>25%</th>\n",
       "      <td>36.375000</td>\n",
       "      <td>0.741917</td>\n",
       "    </tr>\n",
       "    <tr>\n",
       "      <th>50%</th>\n",
       "      <td>37.150000</td>\n",
       "      <td>0.762333</td>\n",
       "    </tr>\n",
       "    <tr>\n",
       "      <th>75%</th>\n",
       "      <td>37.725000</td>\n",
       "      <td>0.810774</td>\n",
       "    </tr>\n",
       "    <tr>\n",
       "      <th>max</th>\n",
       "      <td>39.000000</td>\n",
       "      <td>0.849020</td>\n",
       "    </tr>\n",
       "  </tbody>\n",
       "</table>\n",
       "</div>"
      ],
      "text/plain": [
       "        strength     b_time\n",
       "count  20.000000  20.000000\n",
       "mean   36.965000   0.776221\n",
       "std     1.565172   0.040759\n",
       "min    33.000000   0.695121\n",
       "25%    36.375000   0.741917\n",
       "50%    37.150000   0.762333\n",
       "75%    37.725000   0.810774\n",
       "max    39.000000   0.849020"
      ]
     },
     "execution_count": 10,
     "metadata": {},
     "output_type": "execute_result"
    }
   ],
   "source": [
    "df = pd.read_csv(\"correlation.csv\",engine=\"python\")\n",
    "df.head()\n",
    "df = df[['strength','b_time']][0:20] #자료중 앞에서 20개만 사용하기에 \n",
    "df.describe()"
   ]
  },
  {
   "cell_type": "markdown",
   "id": "edfbd8d1",
   "metadata": {},
   "source": [
    "계획한 대로 20개의 자료를 불러 온 것을 확인 할 수 있었고 각 값들의 분포를 확인 할 수 있었다."
   ]
  },
  {
   "cell_type": "code",
   "execution_count": 11,
   "id": "1698c3ab",
   "metadata": {},
   "outputs": [
    {
     "data": {
      "text/plain": [
       "<AxesSubplot:xlabel='b_time', ylabel='strength'>"
      ]
     },
     "execution_count": 11,
     "metadata": {},
     "output_type": "execute_result"
    },
    {
     "data": {
      "image/png": "[encoded data removed]",
      "text/plain": [
       "<Figure size 432x288 with 1 Axes>"
      ]
     },
     "metadata": {
      "needs_background": "light"
     },
     "output_type": "display_data"
    }
   ],
   "source": [
    "df.plot.scatter(x='b_time', y = 'strength')"
   ]
  },
  {
   "cell_type": "markdown",
   "id": "344f62ba",
   "metadata": {},
   "source": [
    "산점도를 출력하였을 때, 굽는 시간과 쿠키의 강도는 비례하는것으로 보인다."
   ]
  },
  {
   "cell_type": "code",
   "execution_count": 12,
   "id": "7ce1ef94",
   "metadata": {},
   "outputs": [
    {
     "data": {
      "text/html": [
       "<div>\n",
       "<style scoped>\n",
       "    .dataframe tbody tr th:only-of-type {\n",
       "        vertical-align: middle;\n",
       "    }\n",
       "\n",
       "    .dataframe tbody tr th {\n",
       "        vertical-align: top;\n",
       "    }\n",
       "\n",
       "    .dataframe thead th {\n",
       "        text-align: right;\n",
       "    }\n",
       "</style>\n",
       "<table border=\"1\" class=\"dataframe\">\n",
       "  <thead>\n",
       "    <tr style=\"text-align: right;\">\n",
       "      <th></th>\n",
       "      <th>strength</th>\n",
       "      <th>b_time</th>\n",
       "    </tr>\n",
       "  </thead>\n",
       "  <tbody>\n",
       "    <tr>\n",
       "      <th>strength</th>\n",
       "      <td>1.000</td>\n",
       "      <td>0.804</td>\n",
       "    </tr>\n",
       "    <tr>\n",
       "      <th>b_time</th>\n",
       "      <td>0.804</td>\n",
       "      <td>1.000</td>\n",
       "    </tr>\n",
       "  </tbody>\n",
       "</table>\n",
       "</div>"
      ],
      "text/plain": [
       "          strength  b_time\n",
       "strength     1.000   0.804\n",
       "b_time       0.804   1.000"
      ]
     },
     "execution_count": 12,
     "metadata": {},
     "output_type": "execute_result"
    }
   ],
   "source": [
    "df.corr(method='pearson').round(3)"
   ]
  },
  {
   "cell_type": "markdown",
   "id": "a2883c93",
   "metadata": {},
   "source": [
    "초코칩의 강도와 굽는 시간의 상관계수가 0.804 이므로 두 변수는 높은 선형 관계에 있음을 알 수 있다."
   ]
  },
  {
   "cell_type": "code",
   "execution_count": 13,
   "id": "cdd77c7f",
   "metadata": {},
   "outputs": [
    {
     "name": "stdout",
     "output_type": "stream",
     "text": [
      "                            OLS Regression Results                            \n",
      "==============================================================================\n",
      "Dep. Variable:               strength   R-squared:                       0.646\n",
      "Model:                            OLS   Adj. R-squared:                  0.627\n",
      "Method:                 Least Squares   F-statistic:                     32.90\n",
      "Date:                Thu, 28 Oct 2021   Prob (F-statistic):           1.95e-05\n",
      "Time:                        01:30:56   Log-Likelihood:                -26.431\n",
      "No. Observations:                  20   AIC:                             56.86\n",
      "Df Residuals:                      18   BIC:                             58.85\n",
      "Df Model:                           1                                         \n",
      "Covariance Type:            nonrobust                                         \n",
      "==============================================================================\n",
      "                 coef    std err          t      P>|t|      [0.025      0.975]\n",
      "------------------------------------------------------------------------------\n",
      "Intercept     13.0013      4.184      3.108      0.006       4.212      21.791\n",
      "b_time        30.8723      5.383      5.736      0.000      19.564      42.181\n",
      "==============================================================================\n",
      "Omnibus:                        1.724   Durbin-Watson:                   0.765\n",
      "Prob(Omnibus):                  0.422   Jarque-Bera (JB):                1.206\n",
      "Skew:                          -0.589   Prob(JB):                        0.547\n",
      "Kurtosis:                       2.753   Cond. No.                         40.4\n",
      "==============================================================================\n",
      "\n",
      "Notes:\n",
      "[1] Standard Errors assume that the covariance matrix of the errors is correctly specified.\n"
     ]
    }
   ],
   "source": [
    "reg_model = smf.ols(formula = \"strength ~ b_time\", data =df)\n",
    "reg_result = reg_model.fit()\n",
    "print(reg_result.summary())"
   ]
  },
  {
   "cell_type": "markdown",
   "id": "d32123ba",
   "metadata": {},
   "source": [
    "No. Observations 항목에서 자료의 갯수 : 20  \n",
    "DF Residuals 항목에서 잔차 자유도 :18  \n",
    "DF Model 항목에서 모델 자유도 : 1  \n",
    "R-squared 항목에서 설명력 : 0.646  \n",
    "\n",
    "b_time 의 p value값이 0이므로 strength와 연관성이 있다고 볼수있다."
   ]
  },
  {
   "cell_type": "code",
   "execution_count": 14,
   "id": "aa776779",
   "metadata": {},
   "outputs": [
    {
     "data": {
      "text/plain": [
       "<matplotlib.lines.Line2D at 0x7f5acfe7dd00>"
      ]
     },
     "execution_count": 14,
     "metadata": {},
     "output_type": "execute_result"
    },
    {
     "data": {
      "image/png": "[encoded data removed]",
      "text/plain": [
       "<Figure size 432x288 with 1 Axes>"
      ]
     },
     "metadata": {
      "needs_background": "light"
     },
     "output_type": "display_data"
    }
   ],
   "source": [
    "#잔차의 등분산성 : x-예측값, y-잔차\n",
    "plt.scatter(reg_result.fittedvalues, reg_result.resid)\n",
    "plt.xlabel(\"fitted value\"); plt.ylabel(\"residual\")\n",
    "plt.axhline(y=0, linestyle = \"--\")"
   ]
  },
  {
   "cell_type": "markdown",
   "id": "6d83238b",
   "metadata": {},
   "source": [
    "잔차들이 0을 중심으로 대칭적으로 랜덤하게 나타나고 모두 -2와 2 사이에 이으므로 등분산성을 만족한다."
   ]
  },
  {
   "cell_type": "code",
   "execution_count": 15,
   "id": "28df0d36",
   "metadata": {},
   "outputs": [
    {
     "data": {
      "text/plain": [
       "<matplotlib.lines.Line2D at 0x7f5acfef0280>"
      ]
     },
     "execution_count": 15,
     "metadata": {},
     "output_type": "execute_result"
    },
    {
     "data": {
      "image/png": "[encoded data removed]",
      "text/plain": [
       "<Figure size 432x288 with 1 Axes>"
      ]
     },
     "metadata": {
      "needs_background": "light"
     },
     "output_type": "display_data"
    }
   ],
   "source": [
    "#잔차의 독립성\n",
    "plt.plot(df[\"b_time\"], reg_result.resid, marker = \"o\")\n",
    "plt.xlabel(\"b_time\")\n",
    "plt.ylabel(\"residual\")\n",
    "plt.axhline(y=0, linestyle = \"-\")\n",
    "plt.axhline(y=3*np.std(reg_result.resid), linestyle = \"--\")\n",
    "plt.axhline(y=-3*np.std(reg_result.resid), linestyle = \"--\")"
   ]
  },
  {
   "cell_type": "markdown",
   "id": "96ce8ad8",
   "metadata": {},
   "source": [
    "가로축의 변화에 따라 일정한 양상이 보이지 않으므로 독립성을 가지고 있음을 알 수있다.\n"
   ]
  },
  {
   "cell_type": "code",
   "execution_count": 16,
   "id": "dbc3d7d1",
   "metadata": {},
   "outputs": [
    {
     "data": {
      "image/png": "[encoded data removed]",
      "text/plain": [
       "<Figure size 432x288 with 1 Axes>"
      ]
     },
     "execution_count": 16,
     "metadata": {},
     "output_type": "execute_result"
    },
    {
     "data": {
      "image/png": "[encoded data removed]",
      "text/plain": [
       "<Figure size 432x288 with 1 Axes>"
      ]
     },
     "metadata": {
      "needs_background": "light"
     },
     "output_type": "display_data"
    }
   ],
   "source": [
    "#잔차 정규성 검정 :Q-Q plot, s-standardized line\n",
    "qqplot(reg_result.resid, line = \"q\")"
   ]
  },
  {
   "cell_type": "markdown",
   "id": "1cad9f18",
   "metadata": {},
   "source": [
    "표준화된 잔차들을 가로축의 예측 값이 증가함에따라 이들 잔차들의 패턴이 선형적으로 증가하는 양상을 볼 수 있다."
   ]
  },
  {
   "cell_type": "code",
   "execution_count": 17,
   "id": "9169adab",
   "metadata": {},
   "outputs": [
    {
     "data": {
      "text/plain": [
       "NormaltestResult(statistic=1.723765568445973, pvalue=0.4223661089835482)"
      ]
     },
     "execution_count": 17,
     "metadata": {},
     "output_type": "execute_result"
    }
   ],
   "source": [
    "#정규성 검정\n",
    "from statsmodels.stats.stattools import omni_normtest\n",
    "omni_normtest(reg_result.resid, axis=0)"
   ]
  },
  {
   "cell_type": "markdown",
   "id": "88403ec9",
   "metadata": {},
   "source": [
    "정규분포 직선을 중심으로 분포하며 검정 통계량이 pavlue가 0.05보다 커서 귀무가설을 채택하므로 정규분포를 따른다는 것을 알 수 있다."
   ]
  },
  {
   "cell_type": "markdown",
   "id": "277485ff",
   "metadata": {},
   "source": [
    "### 최종 회귀식"
   ]
  },
  {
   "cell_type": "markdown",
   "id": "1466722b",
   "metadata": {},
   "source": [
    " $ y = 13.0013 + 30.8723 * Bakingtime $\n",
    " \n",
    " \n",
    " Baking Time이 1 증가할때마다 강도는 30.8723이 증가  \n",
    " \n",
    " 초코칩 강도 = 13.0013 + 30.8723 * 굽는 시간 "
   ]
  },
  {
   "cell_type": "code",
   "execution_count": null,
   "id": "44bceffa",
   "metadata": {},
   "outputs": [],
   "source": []
  }
 ],
 "metadata": {
  "kernelspec": {
   "display_name": "Python 3",
   "language": "python",
   "name": "python3"
  },
  "language_info": {
   "codemirror_mode": {
    "name": "ipython",
    "version": 3
   },
   "file_extension": ".py",
   "mimetype": "text/x-python",
   "name": "python",
   "nbconvert_exporter": "python",
   "pygments_lexer": "ipython3",
   "version": "3.8.8"
  }
 },
 "nbformat": 4,
 "nbformat_minor": 5
}
