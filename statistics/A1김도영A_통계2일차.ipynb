{
 "cells": [
  {
   "cell_type": "markdown",
   "id": "cf12320f",
   "metadata": {},
   "source": [
    "# 통계 Day 2과제 "
   ]
  },
  {
   "cell_type": "markdown",
   "id": "459ae048",
   "metadata": {},
   "source": [
    "## 필수 라이브러리 추가 및 폰트 설정"
   ]
  },
  {
   "cell_type": "code",
   "execution_count": 1,
   "id": "6aaeb5e0",
   "metadata": {},
   "outputs": [],
   "source": [
    "import pandas as pd\n",
    "import numpy as np\n",
    "import matplotlib\n",
    "import matplotlib.pyplot as plt\n",
    "import seaborn as sns\n",
    "from scipy import stats\n",
    "import scipy.stats\n",
    "\n",
    "%matplotlib inline\n",
    "matplotlib.rc('font', family='Malgun Gothic')\n",
    "plt.rc('font', family = 'Malgun Gothic')"
   ]
  },
  {
   "cell_type": "markdown",
   "id": "fecd1f3b",
   "metadata": {},
   "source": [
    "## 실습 1 p43"
   ]
  },
  {
   "cell_type": "markdown",
   "id": "c5953bc7",
   "metadata": {},
   "source": [
    "### 대한민국 남성의 20~30대 키를 측정한 결과, 평균 175cm 표준편차 5cm이다\n",
    " - 나의 키가 180cm일 경우에 나는 몇 % 범위일까?"
   ]
  },
  {
   "cell_type": "code",
   "execution_count": 2,
   "id": "9caeaf36",
   "metadata": {},
   "outputs": [
    {
     "name": "stdout",
     "output_type": "stream",
     "text": [
      "180cm 는 대한민국 남성 상위 15.87%입니다.\n"
     ]
    }
   ],
   "source": [
    "mu = 175 #키 평균 (cm)\n",
    "sigma = 5 #표준편차 (cm)\n",
    "\n",
    "x = 180 #알고 싶은 값 (cm)\n",
    "\n",
    "prob = stats.norm.cdf(x,mu,sigma) #cumulative distribution function 누적 분포 함수\n",
    "print(\"{}cm 는 대한민국 남성 상위 {:.2f}%입니다.\".format(x,(1-prob)*100))"
   ]
  },
  {
   "cell_type": "markdown",
   "id": "d0da4e47",
   "metadata": {},
   "source": [
    "180cm는 평균 175cm에서 5cm 떨어져 있고 여기서 표준편차가 5cm이므로 표준편차의 1 배의 위치에 위치한다. 따라서 180cm 사람은 상위 15.87%에 위치한다고 할 수 있다. "
   ]
  },
  {
   "cell_type": "markdown",
   "id": "90ded2fa",
   "metadata": {},
   "source": [
    "## 실습 2 p45"
   ]
  },
  {
   "cell_type": "markdown",
   "id": "1d69447c",
   "metadata": {},
   "source": [
    "### 어떤 자동차 1리터당 주행거리가 평균 12km, 표준편차 3km 인 정규 분포를 이룬다.\n",
    " - 1리터를 가지고 9km 이상 15km 이하를 달릴 확률은 얼마인가요?\n",
    " - 1리터를 가지고 15km 이상을 달릴 확률은 얼마인가요?"
   ]
  },
  {
   "cell_type": "code",
   "execution_count": 3,
   "id": "c7a6fa1e",
   "metadata": {},
   "outputs": [
    {
     "name": "stdout",
     "output_type": "stream",
     "text": [
      "1리터를 가지고 9km 이상 15km 이하를 달릴 확률은 68.27% 입니다.\n",
      "1리터를 가지고 15km 이상을 달릴 확률은 15.87% 입니다.\n"
     ]
    }
   ],
   "source": [
    "mu = 12 #리터당 평균 주행거리 (km)\n",
    "sigma = 3 #표준편차 (km)\n",
    "x_min = 9\n",
    "x_max = 15\n",
    "\n",
    "\n",
    "prob1 = stats.norm.cdf(x_max,mu,sigma) - stats.norm.cdf(x_min,mu,sigma)\n",
    "print(\"1리터를 가지고 9km 이상 15km 이하를 달릴 확률은 {:.2f}% 입니다.\".format(prob1*100))\n",
    "\n",
    "prob2 = 1 - stats.norm.cdf(x_max,mu,sigma)\n",
    "print(\"1리터를 가지고 15km 이상을 달릴 확률은 {:.2f}% 입니다.\".format(prob2*100))"
   ]
  },
  {
   "cell_type": "markdown",
   "id": "691f0d55",
   "metadata": {},
   "source": [
    "9km<x < 15km 의 경우 15km이하를 달릴 확률에서 9km이하를 달릴 확률을 빼주어 계산하였다.\n",
    "15km이상을 달릴 확률은 전체 확률 1에서 15km이하를 달릴 확률을 빼주어 계산하였다."
   ]
  },
  {
   "cell_type": "markdown",
   "id": "a80ba044",
   "metadata": {},
   "source": [
    "## 실습 3 p54"
   ]
  },
  {
   "cell_type": "markdown",
   "id": "2917f3b2",
   "metadata": {},
   "source": [
    "### 확률변수t는 자유도가 100인 t-분포를 따른다.\n",
    " - t 값이 2.0일 때, P(T<t)을 계산하시오"
   ]
  },
  {
   "cell_type": "code",
   "execution_count": 4,
   "id": "25031bb7",
   "metadata": {},
   "outputs": [
    {
     "name": "stdout",
     "output_type": "stream",
     "text": [
      "P(T<=F): 0.98\n"
     ]
    }
   ],
   "source": [
    "t = 2.0 #확률변수 t\n",
    "df = 100 #자유도\n",
    "\n",
    "#누적 확률 값 계산\n",
    "prob = stats.t.cdf(t,df) #cumulative distribution function 누적 분포 함수\n",
    "print(\"P(T<=F): {:.2f}\".format(prob))"
   ]
  },
  {
   "cell_type": "markdown",
   "id": "cc20d661",
   "metadata": {},
   "source": [
    "## 실습 4 p60"
   ]
  },
  {
   "cell_type": "markdown",
   "id": "6ecfa67b",
   "metadata": {},
   "source": [
    "### 확률변수 $\\chi^2$ 은 자유도가 8인 $\\chi^2$ 분포를 따른다 \n",
    " - $\\chi^2$ 값이 3.0일 때, P(X<=$\\chi^2$)을 계산하시오"
   ]
  },
  {
   "cell_type": "code",
   "execution_count": 5,
   "id": "0a14f26e",
   "metadata": {},
   "outputs": [
    {
     "name": "stdout",
     "output_type": "stream",
     "text": [
      "P(X<=3.0) : 0.06564\n"
     ]
    }
   ],
   "source": [
    "chisq = 3.0 #카이스퀘어\n",
    "df = 8 #자유도\n",
    "prob = stats.chi2.cdf(chisq,df) #누적 분포 함수\n",
    "print(\"P(X<={}) : {:.5f}\".format(chisq,prob))"
   ]
  },
  {
   "cell_type": "markdown",
   "id": "749052d1",
   "metadata": {},
   "source": [
    "## 실습 5 p64"
   ]
  },
  {
   "cell_type": "markdown",
   "id": "6fd2d720",
   "metadata": {},
   "source": [
    "### 확률변수 F는 각각 자유도가 10, 100 인 F-분포를 따른다.\n",
    " - F값이 1.5 일 때, P(X<=F)을 계산하시오."
   ]
  },
  {
   "cell_type": "code",
   "execution_count": 6,
   "id": "a59e49ad",
   "metadata": {},
   "outputs": [
    {
     "name": "stdout",
     "output_type": "stream",
     "text": [
      "P(X<=F): 0.85\n"
     ]
    }
   ],
   "source": [
    "f = 1.5 #확률변수\n",
    "dfnum = 10 #F(10,100)-분포\n",
    "dfden = 100\n",
    "\n",
    "prob = stats.f.cdf(x=f, dfn = dfnum, dfd = dfden) #누적 분포 함수\n",
    "print(\"P(X<=F): {:.2f}\".format(prob))"
   ]
  },
  {
   "cell_type": "markdown",
   "id": "e6fc8352",
   "metadata": {},
   "source": [
    "## 실습 6 p68"
   ]
  },
  {
   "cell_type": "markdown",
   "id": "0bbaf100",
   "metadata": {},
   "source": [
    "### 어떤 제품의 수명시간 x가 형상모수 5.2, 척도 모수 2,200 인 와이블 분포를 따른다고 할 때,\n",
    "- 이 제품이 적어도 2,500 시간 이상 작동할 확률을 구하라"
   ]
  },
  {
   "cell_type": "code",
   "execution_count": 7,
   "id": "45f12866",
   "metadata": {},
   "outputs": [
    {
     "name": "stdout",
     "output_type": "stream",
     "text": [
      "P(X<=x): 0.143\n"
     ]
    }
   ],
   "source": [
    "x = 2500 #시간\n",
    "alpha = 5.2 #형상모수\n",
    "beta = 2200 #척도모수\n",
    "\n",
    "#누적확률 값 계산\n",
    "prob = stats.weibull_min.cdf(x, alpha, scale = beta)\n",
    "print(\"P(X<=x): {:.3f}\".format(1-prob))"
   ]
  },
  {
   "cell_type": "markdown",
   "id": "1e7133b0",
   "metadata": {},
   "source": [
    "## 실습 7 p75"
   ]
  },
  {
   "cell_type": "markdown",
   "id": "5e94c458",
   "metadata": {},
   "source": [
    "### 도장공정에서 광택도 불량이 30% 나 된다고 한다.\n",
    " - 5대의 차량을 임의로 선택했을 때 불량대수가 각각 0,1,2,3,4,5 대가 나올 확률은 얼마인가요?"
   ]
  },
  {
   "cell_type": "code",
   "execution_count": 8,
   "id": "368ea8e8",
   "metadata": {},
   "outputs": [
    {
     "name": "stdout",
     "output_type": "stream",
     "text": [
      "P(X=0) = 0.16807\n",
      "P(X=1) = 0.36015\n",
      "P(X=2) = 0.30870\n",
      "P(X=3) = 0.13230\n",
      "P(X=4) = 0.02835\n",
      "P(X=5) = 0.00243\n"
     ]
    }
   ],
   "source": [
    "n = 5\n",
    "for i in range(n+1):\n",
    "    #이항 분포 Probability Mass Function\n",
    "    prob = stats.binom.pmf(k = i, n=n, p = 0.3)\n",
    "    print(\"P(X={}) = {:.5f}\".format(i,prob))"
   ]
  },
  {
   "cell_type": "markdown",
   "id": "2994ce17",
   "metadata": {},
   "source": [
    "## 실습 8 p78"
   ]
  },
  {
   "cell_type": "markdown",
   "id": "138cd072",
   "metadata": {},
   "source": [
    "### 한 상점에는 평균 1시간에 3명씩 포아송분포로 손님이 도착한다.\n",
    " - 이때 10시에서 11시 사이에 다음이 발생할 확률을 구하시오\n",
    "     - 2명의 손님이 도착\n",
    "     - 1명 이하의 손님이 도착\n",
    "     - 3명 이상의 손님이 도착"
   ]
  },
  {
   "cell_type": "code",
   "execution_count": 9,
   "id": "d2babe60",
   "metadata": {},
   "outputs": [
    {
     "name": "stdout",
     "output_type": "stream",
     "text": [
      "10시에서 11시 사이에 2명의 손님이 도착할 확률 : 22.40%\n",
      "10시에서 11시 사이에 1명 이하의 손님이 도착할 확률 : 19.91%\n",
      "10시에서 11시 사이에 3명 이상의 손님이 도착할 확률 : 57.68%\n"
     ]
    }
   ],
   "source": [
    "mu = 3 #평균 한시간에 3명 손님\n",
    "prob1 = stats.poisson.pmf(2,mu) #1시간에 2명의 손님이 올 확률\n",
    "prob2 = stats.poisson.cdf(1,mu) #1시간에 1명 이하의 손님이 올 확률 (누적 분포 함수)\n",
    "prob3 = 1 - stats.poisson.cdf(2,mu) # 2명 이하의 손님이 올때를 구하여 1에서 뺀다\n",
    "\n",
    "print(\"10시에서 11시 사이에 2명의 손님이 도착할 확률 : {:.2f}%\".format(prob1*100))\n",
    "print(\"10시에서 11시 사이에 1명 이하의 손님이 도착할 확률 : {:.2f}%\".format(prob2*100))\n",
    "print(\"10시에서 11시 사이에 3명 이상의 손님이 도착할 확률 : {:.2f}%\".format(prob3*100))"
   ]
  },
  {
   "cell_type": "markdown",
   "id": "fcd9df9b",
   "metadata": {},
   "source": [
    "## 실습 9 p96"
   ]
  },
  {
   "cell_type": "markdown",
   "id": "d58ea18d",
   "metadata": {},
   "source": [
    "### 실습파일 2sample_t_test.csv을 불러온다.\n",
    " - 변수, Mat_A 와 Mat_B에 대해 각각 정규성을 검정합니다."
   ]
  },
  {
   "cell_type": "code",
   "execution_count": 10,
   "id": "4d6c7c14",
   "metadata": {},
   "outputs": [
    {
     "name": "stdout",
     "output_type": "stream",
     "text": [
      "Shapiro-Wilk Test: statistic=0.9063, p-value = 0.2563\n"
     ]
    }
   ],
   "source": [
    "from scipy.stats import shapiro\n",
    "\n",
    "ds_Mat_AB_data = pd.read_csv('2sample_t_test.csv',engine = \"python\")\n",
    "ds_Mat_AB_data.head()\n",
    "\n",
    "data1 = ds_Mat_AB_data['Mat_A'].dropna()\n",
    "shapiro(data1)\n",
    "\n",
    "statistic, p = stats.shapiro(data1)\n",
    "print(\"Shapiro-Wilk Test: statistic={:.4f}, p-value = {:.4f}\".format(statistic,p))"
   ]
  },
  {
   "cell_type": "markdown",
   "id": "644e22be",
   "metadata": {},
   "source": [
    "불러온 데이터에서 NaN값을 제거해주기위해 dropna메소드를 사용하여 제거하였다.\n",
    "신뢰수준 95%일때, 정규성 검정결과 p-value값이 0.05보다 크므로 정규로 판단 할 수 있다."
   ]
  },
  {
   "cell_type": "code",
   "execution_count": 11,
   "id": "fc1760b4",
   "metadata": {},
   "outputs": [
    {
     "name": "stdout",
     "output_type": "stream",
     "text": [
      "Shapiro-Wilk Test: statistic=0.9729753732681274, p-value = 0.9170\n"
     ]
    }
   ],
   "source": [
    "from scipy.stats import shapiro\n",
    "\n",
    "ds_Mat_AB_data = pd.read_csv('2sample_t_test.csv',engine = \"python\")\n",
    "ds_Mat_AB_data.head()\n",
    "\n",
    "data2 = ds_Mat_AB_data['Mat_B'].dropna()\n",
    "shapiro(data2)\n",
    "\n",
    "statistic, p = stats.shapiro(data2)\n",
    "print(\"Shapiro-Wilk Test: statistic={}, p-value = {:.4f}\".format(statistic,p))\n"
   ]
  },
  {
   "cell_type": "markdown",
   "id": "b6f8e030",
   "metadata": {},
   "source": [
    "불러온 데이터에서 NaN값을 제거해주기위해 dropna메소드를 사용하여 제거하였다.\n",
    "신뢰수준 95%일때, 정규성 검정결과 p-value값이 0.05보다 크므로 정규로 판단 할 수 있다."
   ]
  },
  {
   "cell_type": "markdown",
   "id": "3715cf9c",
   "metadata": {},
   "source": [
    "## 실습 10 p99"
   ]
  },
  {
   "cell_type": "markdown",
   "id": "38e76faa",
   "metadata": {},
   "source": [
    "### 새로운 품종의 감자 20 Box를 랜덤추출하여 무게를 측정할 결과가 다음과 같음\n",
    " - 단, 모표준편차는 3.8로 알려져 있음\n",
    " - 이 자료로부터 신품종 배추의 평균 무게에 대한 95% 신뢰구간을 구하시오.\n"
   ]
  },
  {
   "cell_type": "code",
   "execution_count": 12,
   "id": "2f162f6b",
   "metadata": {},
   "outputs": [
    {
     "name": "stdout",
     "output_type": "stream",
     "text": [
      "신뢰구간: ([17.83], [21.17])\n"
     ]
    }
   ],
   "source": [
    "df = pd.DataFrame({\"sample\" : [18, 18, 20, 21, 20, 23, 19, 18, 17, 21,\n",
    "                               22, 20, 20, 21, 20, 19, 19, 18, 17, 19]})\n",
    "df.head()\n",
    "#정규분포 구간 추정 함수 실행\n",
    "lower,upper = stats.norm.interval(0.95,loc = np.mean(df), scale = 3.8/np.sqrt(20))\n",
    "print(\"신뢰구간: ({}, {})\".format(lower.round(2),upper.round(2)))"
   ]
  },
  {
   "cell_type": "markdown",
   "id": "ba3d82c4",
   "metadata": {},
   "source": [
    "## 실습 11 p102"
   ]
  },
  {
   "cell_type": "markdown",
   "id": "485ed5e4",
   "metadata": {},
   "source": [
    "### 제품개발자는 새로 개발된 강종의 평균 인장강도를 70 kg/mm^2 으로 기대하고 있음.\n",
    "- 이를 검증하기 위해 시험 생산되는 강종 중 임의로 20개의 코일을 대상으로 랜덤하게 시편을 채취하였음.\n",
    "- 이 자료로 부터 표본 평균은 71.50kg/mm^2, 표본표준편차는 1.933 kg/mm^2 임을 알았음.\n",
    "- 이 모평균 값의 95% 신뢰 구간을 추정하시오"
   ]
  },
  {
   "cell_type": "code",
   "execution_count": 13,
   "id": "a9f63b2c",
   "metadata": {},
   "outputs": [
    {
     "name": "stdout",
     "output_type": "stream",
     "text": [
      "신뢰구간 : ([70.6],[72.4])\n"
     ]
    }
   ],
   "source": [
    "df = pd.DataFrame({ 'sample':[73, 71, 74, 69, 70, 73, 70, 68, 75, 72, \n",
    "                              70, 72, 73, 70, 70, 72, 71, 70, 75, 72]})\n",
    "#정규분포 구간 추정 함수 실행\n",
    "lower, upper = stats.t.interval(0.95, len(df)-1, loc = np.mean(df), scale = scipy.stats.sem(df))\n",
    "print(\"신뢰구간 : ({},{})\".format(lower.round(2), upper.round(2)))"
   ]
  },
  {
   "cell_type": "markdown",
   "id": "6da1ad0f",
   "metadata": {},
   "source": [
    "## 실습 12 p107"
   ]
  },
  {
   "cell_type": "markdown",
   "id": "cb6b8bdb",
   "metadata": {},
   "source": [
    "### 다음 상황에 대하여 모수의 신뢰구간을 계산한다.\n",
    " - 날아라 항공사의 콜센터 성능을 평가하기 위해 50번의 전화를 랜더만 시각에 걸어 상담원과 상담하기까지의 통화 대기 시간을 기록하였다. 고객들은 통화대기시간이 15초를 넘길 경우 짜증을 내기 시작하므로 15초를 초과한 통화대기는 통화 관리 실패로 규정하고있다.\n",
    " - 통화대기시간의 모분산에 대한 점추정량 및 95% 신뢰구간을 구하시오"
   ]
  },
  {
   "cell_type": "code",
   "execution_count": 14,
   "id": "589cec1e",
   "metadata": {},
   "outputs": [
    {
     "data": {
      "text/html": [
       "<div>\n",
       "<style scoped>\n",
       "    .dataframe tbody tr th:only-of-type {\n",
       "        vertical-align: middle;\n",
       "    }\n",
       "\n",
       "    .dataframe tbody tr th {\n",
       "        vertical-align: top;\n",
       "    }\n",
       "\n",
       "    .dataframe thead th {\n",
       "        text-align: right;\n",
       "    }\n",
       "</style>\n",
       "<table border=\"1\" class=\"dataframe\">\n",
       "  <thead>\n",
       "    <tr style=\"text-align: right;\">\n",
       "      <th></th>\n",
       "      <th>sample</th>\n",
       "    </tr>\n",
       "  </thead>\n",
       "  <tbody>\n",
       "    <tr>\n",
       "      <th>count</th>\n",
       "      <td>50.000000</td>\n",
       "    </tr>\n",
       "    <tr>\n",
       "      <th>mean</th>\n",
       "      <td>10.740000</td>\n",
       "    </tr>\n",
       "    <tr>\n",
       "      <th>std</th>\n",
       "      <td>3.983691</td>\n",
       "    </tr>\n",
       "    <tr>\n",
       "      <th>min</th>\n",
       "      <td>4.000000</td>\n",
       "    </tr>\n",
       "    <tr>\n",
       "      <th>25%</th>\n",
       "      <td>8.000000</td>\n",
       "    </tr>\n",
       "    <tr>\n",
       "      <th>50%</th>\n",
       "      <td>10.500000</td>\n",
       "    </tr>\n",
       "    <tr>\n",
       "      <th>75%</th>\n",
       "      <td>13.000000</td>\n",
       "    </tr>\n",
       "    <tr>\n",
       "      <th>max</th>\n",
       "      <td>19.000000</td>\n",
       "    </tr>\n",
       "  </tbody>\n",
       "</table>\n",
       "</div>"
      ],
      "text/plain": [
       "          sample\n",
       "count  50.000000\n",
       "mean   10.740000\n",
       "std     3.983691\n",
       "min     4.000000\n",
       "25%     8.000000\n",
       "50%    10.500000\n",
       "75%    13.000000\n",
       "max    19.000000"
      ]
     },
     "execution_count": 14,
     "metadata": {},
     "output_type": "execute_result"
    }
   ],
   "source": [
    "df = pd.DataFrame({'sample':[12,9,10,5,16,13,5,9,8,13,\n",
    "                            16,12,12,4,14,9,11,14,9,17,\n",
    "                            5,8,9,6,11,19,6,6,8,9,\n",
    "                            13,10,8,13,19,8,12,14,16,16,\n",
    "                            11,17,5,9,12,17,11,8,5,8]})\n",
    "df.describe()"
   ]
  },
  {
   "cell_type": "code",
   "execution_count": 15,
   "id": "a721a63c",
   "metadata": {},
   "outputs": [
    {
     "name": "stdout",
     "output_type": "stream",
     "text": [
      "모분산의 95%신뢰구간 = (10.890,24.034)\n"
     ]
    }
   ],
   "source": [
    "n = 50 #자료의 수 \n",
    "s = 3.984 #위의 describe()를 통해 얻은 표준 편차\n",
    "chi2 = 71.42 #chi^2(0.025,49)\n",
    "chi2_1sub_alpha = 32.36 #chi^2(0.975,49)\n",
    "\n",
    "trust_min=(n-1)*s*s/chi2 #신뢰구간 최소\n",
    "trust_max =(n-1)*s*s/chi2_1sub_alpha #신뢰구간 최대\n",
    "print(\"모분산의 95%신뢰구간 = ({:.3f},{:.3f})\".format(trust_min,trust_max))"
   ]
  },
  {
   "cell_type": "markdown",
   "id": "c04f3adb",
   "metadata": {},
   "source": [
    "## 실습 13 p110"
   ]
  },
  {
   "cell_type": "markdown",
   "id": "9bf2fc48",
   "metadata": {},
   "source": [
    "### 다음 상황에 대하여 모수의 신뢰구간을 계산한다.\n",
    " - 날아라 항공사의 콜센터 성능을 평가하기 위해 50번의 전화를 랜더만 시각에 걸어 상담원과 상담하기까지의 통화 대기 시간을 기록하였다. 고객들은 통화대기시간이 15초를 넘길 경우 짜증을 내기 시작하므로 15초를 초과한 통화대기는 통화 관리 실패로 규정하고있다.\n",
    " - 통화관리 성공율에 대한 점추정량 및 95% 신뢰구간을 구하시오\n"
   ]
  },
  {
   "cell_type": "code",
   "execution_count": 16,
   "id": "6b9df984",
   "metadata": {},
   "outputs": [
    {
     "name": "stdout",
     "output_type": "stream",
     "text": [
      "점추적량 = 0.18\n",
      "통화관리 성공율에 대한 95% 신뢰\n"
     ]
    }
   ],
   "source": [
    "import math\n",
    "\n",
    "p = 9/50\n",
    "n = 50\n",
    "Z = 1.96\n",
    "\n",
    "trust_min = p - Z*math.sqrt(p*(1-p)/n)\n",
    "trust_max = p + Z*math.sqrt(p*(1-p)/n)\n",
    "\n",
    "print(\"점추적량 = {}\".format(p))\n",
    "print(\"통화관리 성공율에 대한 95% 신뢰\".format(trust_min, trust_max))"
   ]
  },
  {
   "cell_type": "markdown",
   "id": "c1bcb1bd",
   "metadata": {},
   "source": [
    "## 실습 14 p131"
   ]
  },
  {
   "cell_type": "markdown",
   "id": "1d7e71f3",
   "metadata": {},
   "source": [
    "### 고객서비스센터의 고객만족도 평균은 78.0이 이다. 개선활동을 완료한 후 다음과 같은 10개의 고객만족도 데이터를 얻었다. \n",
    "- 개선활동이 만족도를 변화 시켰는가? ($\\alpha =0.05$) "
   ]
  },
  {
   "cell_type": "code",
   "execution_count": 17,
   "id": "485fdb9d",
   "metadata": {},
   "outputs": [
    {
     "name": "stdout",
     "output_type": "stream",
     "text": [
      "1-Sample t-test\n",
      "t 통계량 : [3.379]\n",
      "p-value : [0.008]\n"
     ]
    }
   ],
   "source": [
    "df = pd.DataFrame({'sample':[85.0, 79.0, 79.1, 79.9, 81.6,\n",
    "                             78.6, 85.4, 83.4, 78.1, 79.2]})\n",
    "t_result = stats.ttest_1samp(df, 78.0)\n",
    "\n",
    "t,p = t_result.statistic.round(3), t_result.pvalue.round(3)\n",
    "\n",
    "print(\"1-Sample t-test\")\n",
    "print(\"t 통계량 : {}\".format(t))\n",
    "print(\"p-value : {}\".format(p))"
   ]
  },
  {
   "cell_type": "markdown",
   "id": "046ee6c0",
   "metadata": {},
   "source": [
    "$\\alpha=0.05$ 수준에서 귀무가설을 기각하기 위해서 요구되는 최소한의 t값(임계값)은 $t_{(0.025,9)} =2.262$ 이기에 위의 경우 t의 값이 3.379 이므로 2.262보다 크므로 개선활동이 고객만족도 변화를 시켰다고 할 수 있다."
   ]
  },
  {
   "cell_type": "markdown",
   "id": "302a460a",
   "metadata": {},
   "source": [
    "## 실습 15 p139"
   ]
  },
  {
   "cell_type": "markdown",
   "id": "d8c69b11",
   "metadata": {},
   "source": [
    "### 제품을 A공급자와 B공급자로 부터 제품을 받아 두께를 측정해서 다음의 데이터를 얻었다.\n",
    "- 공급자 간에 모평균에 차이가 있다고 할 수 있는가? (유의수준 $ \\alpha = 0.05$)"
   ]
  },
  {
   "cell_type": "code",
   "execution_count": 18,
   "id": "7979ba17",
   "metadata": {},
   "outputs": [
    {
     "name": "stdout",
     "output_type": "stream",
     "text": [
      "2-Sample t-test\n",
      "t: 1.7\n",
      "p: 0.111\n"
     ]
    }
   ],
   "source": [
    "df = pd.DataFrame({'Thickness': [1.435, 1.572, 1.486, 1.883, 1.715, 1.799, 1.511, 1.457,\n",
    "                              1.548, 1.768, 1.711, 1.832, 1.427, 1.344, 1.404, 1.883],\n",
    "                  'Supplier' : ['B', 'B', 'B', 'A', 'A', 'A', 'B','B',\n",
    "                                'B', 'A', 'A', 'A', 'A', 'A', 'B','B']})\n",
    "\n",
    "df_A = df[df.Supplier =='A']\n",
    "df_B = df[df.Supplier =='B']\n",
    "df_A = df_A['Thickness']\n",
    "df_B = df_B['Thickness']\n",
    "\n",
    "t_result = stats.ttest_ind(df_A,df_B)\n",
    "t, p = t_result.statistic.round(3), t_result.pvalue.round(3)\n",
    "\n",
    "print(\"2-Sample t-test\")\n",
    "print(\"t: {}\".format(t))\n",
    "print(\"p: {}\".format(p))\n"
   ]
  },
  {
   "cell_type": "markdown",
   "id": "047f65ce",
   "metadata": {},
   "source": [
    "유의수준 $ \\alpha = 0.05$ 이고 차이가 있는지를 알아보는것이기에 양측검정이다. 따라서 p value 와 비교해야할 대상은 0.05/2 = 0.025 이다.p값이 0.025보다 크기에 귀무가설을 채택한다. 따라서 두 공급자 간에 모평균의 차이가 없다고 할 수 있다."
   ]
  },
  {
   "cell_type": "markdown",
   "id": "8eb10f3b",
   "metadata": {},
   "source": [
    "## 실습 16 p143"
   ]
  },
  {
   "cell_type": "markdown",
   "id": "feebb04b",
   "metadata": {},
   "source": [
    "### 회사원 10명에 대해 영어점수가 학원가기 전의 점수와 학원수강 후에 영어점수가 짝을 이루고 있다.\n",
    " - 회사원들의 성적은 학원가기 전후에 대해 차이가 있는지 검정하라."
   ]
  },
  {
   "cell_type": "code",
   "execution_count": 19,
   "id": "4718cf10",
   "metadata": {},
   "outputs": [
    {
     "name": "stdout",
     "output_type": "stream",
     "text": [
      "Paired t-test\n",
      "t: [-2.266]\n",
      "p: [0.05]\n"
     ]
    }
   ],
   "source": [
    "df1 = pd.DataFrame({'before':[720, 589, 780, 648, 720, 589, 780, 648, 780, 648]})\n",
    "df2 = pd.DataFrame({'after': [710, 580, 787, 712, 750, 600, 782, 670, 790, 680]})\n",
    "\n",
    "t_result = stats.ttest_rel(df1,df2)\n",
    "\n",
    "t,p = t_result.statistic.round(3), t_result.pvalue.round(3)\n",
    "\n",
    "print(\"Paired t-test\")\n",
    "print(\"t: {}\".format(t))\n",
    "print(\"p: {}\".format(p))"
   ]
  },
  {
   "cell_type": "markdown",
   "id": "5250da23",
   "metadata": {},
   "source": [
    "유의수준이 정해져 있지 않으므로 유의수준($ \\alpha = 0.01$) 로 정하겠다. 차이가 있는지 검정해야 하므로 $ \\alpha /2= 0.005$ 와 p-value를 비교해야한다. 이때 p-value가 $ \\alpha /2 = 0.005$ 보다 크므로 귀무가설을 채택한다. 따라서 회사원들의 성적은 학원가기 전후에 차이가 없다고 검정할 수 있다."
   ]
  },
  {
   "cell_type": "code",
   "execution_count": null,
   "id": "fe69aa33",
   "metadata": {},
   "outputs": [],
   "source": []
  },
  {
   "cell_type": "code",
   "execution_count": null,
   "id": "b88eaf1a",
   "metadata": {},
   "outputs": [],
   "source": []
  }
 ],
 "metadata": {
  "kernelspec": {
   "display_name": "Python 3",
   "language": "python",
   "name": "python3"
  },
  "language_info": {
   "codemirror_mode": {
    "name": "ipython",
    "version": 3
   },
   "file_extension": ".py",
   "mimetype": "text/x-python",
   "name": "python",
   "nbconvert_exporter": "python",
   "pygments_lexer": "ipython3",
   "version": "3.8.8"
  }
 },
 "nbformat": 4,
 "nbformat_minor": 5
}
